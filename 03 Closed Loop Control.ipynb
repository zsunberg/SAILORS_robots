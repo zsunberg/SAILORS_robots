{
 "cells": [
  {
   "cell_type": "markdown",
   "metadata": {},
   "source": [
    "# Task 3: Closed Loop Control\n",
    "\n",
    "We have already learned about the advantages of closed loop control - now we will implement it on the MBED microcontroller.\n",
    "\n",
    "## Step 1: Understanding the Sensors\n",
    "\n",
    "### Light Sensors\n",
    "\n",
    "First we need to understand the sensors that our robot has. Execute the following code to see the output from the light sensors on the robot and observe how the numbers change when you move the robot over the line. Use the stop button to stop the code when you are finished."
   ]
  },
  {
   "cell_type": "code",
   "execution_count": null,
   "metadata": {
    "collapsed": false
   },
   "outputs": [],
   "source": [
    "from sailorsbot import SBot\n",
    "import sys\n",
    "from time import sleep"
   ]
  },
  {
   "cell_type": "code",
   "execution_count": null,
   "metadata": {
    "collapsed": true
   },
   "outputs": [],
   "source": [
    "with SBot(18) as car:\n",
    "    while True:\n",
    "        sens = car.get_sensors()\n",
    "        sys.stdout.write('\\r'+str(sens))\n",
    "        sleep(0.2)"
   ]
  },
  {
   "cell_type": "markdown",
   "metadata": {},
   "source": [
    "### Line Position\n",
    "\n",
    "It would be difficult to write a feedback control law based on those five light sensor numbers. Fortunately, the robot combines those measurements into a single measurement that indicates the position of the black line under the robot. To see the line position reading, run the following code. Use the stop button to stop the code when you are finished."
   ]
  },
  {
   "cell_type": "code",
   "execution_count": null,
   "metadata": {
    "collapsed": false
   },
   "outputs": [],
   "source": [
    "with SBot(18) as car:\n",
    "    while True:\n",
    "        sens = car.get_line_position()\n",
    "        sys.stdout.write('\\r'+str(sens))\n",
    "        sleep(0.2)"
   ]
  },
  {
   "cell_type": "markdown",
   "metadata": {},
   "source": [
    "## Step 2: Programming a Control Law\n",
    "\n",
    "Now we will use the line position as a feedback measurement for a control law. First, we will experiment in a simple simulator, then try it on the car."
   ]
  },
  {
   "cell_type": "code",
   "execution_count": 2,
   "metadata": {
    "collapsed": false
   },
   "outputs": [],
   "source": [
    "from sailorssim import simulate"
   ]
  },
  {
   "cell_type": "markdown",
   "metadata": {},
   "source": [
    "In the simulator, the `control` function is called at 20 Hz, just like `line_follow_loop()` on the MBED. The control function should set `leftspeed` and `rightspeed` based on the line position feedback. There are three arguments to the function:\n",
    "\n",
    "- `line_position`: the most recent available position of the line\n",
    "- `previous_position`: the line position reading from the last time `control` was called"
   ]
  },
  {
   "cell_type": "code",
   "execution_count": 3,
   "metadata": {
    "collapsed": false
   },
   "outputs": [],
   "source": [
    "def control(line_position, previous_position):\n",
    "    \n",
    "    # change the lines below to change the control law\n",
    "    leftspeed = 0.3\n",
    "    rightspeed = 0.3\n",
    "    \n",
    "    return leftspeed, rightspeed"
   ]
  },
  {
   "cell_type": "markdown",
   "metadata": {},
   "source": [
    "Run the simulator with your control law. After a few tries, if you have programmed your control law wisely, the blue line will go towards the black line and stay with it.\n",
    "\n",
    "The simulator is fairly accurate - if something works in the simulator, it is fairly likely to work on the robot, but it is not perfect, so it is best to also experiment on the robot.\n",
    "\n",
    "Beware of things that make control harder, like sensor lag. You can change the simulated sensor lag with the `sensor_lag` keyword argument. In real life it seems to be about 0.045 seconds."
   ]
  },
  {
   "cell_type": "code",
   "execution_count": 6,
   "metadata": {
    "collapsed": false,
    "scrolled": true
   },
   "outputs": [
    {
     "data": {
      "image/png": "[encoded data removed]",
      "text/plain": [
       "<matplotlib.figure.Figure at 0x7f5d42fc5490>"
      ]
     },
     "metadata": {},
     "output_type": "display_data"
    }
   ],
   "source": [
    "simulate(control, output='plot') # faster: output='plot'"
   ]
  },
  {
   "cell_type": "markdown",
   "metadata": {
    "collapsed": true
   },
   "source": [
    "## Step 3: Putting the Control Law on the MBED\n",
    "\n",
    "Once you have a control law that you want to test on the robot. Copy your code from the `control` function above into main.cpp starting on line 24, then convert it from python to C.\n",
    "\n",
    "There are three changes that you will probably have to make:\n",
    "\n",
    "1. End every statement with a semicolon (;).\n",
    "2. New variables must be declared with a type. If the variable is an integer, it should be type `int`; if it is a decimal number, it should be type `double` (for \"double precision floating point number\"), and if it is true/false, it should be type `bool`. Example:\n",
    "    ```c++\n",
    "    double sum = 0.3 + line_position;\n",
    "    ```\n",
    "3. If statements look like this\n",
    "    ```c++\n",
    "    if(line_position > 0.5) {\n",
    "        leftspeed = 1.0;\n",
    "    }\n",
    "    ```\n",
    "    instead of this\n",
    "    ```python\n",
    "        if line_position > 0.5:\n",
    "            leftspeed = 1.0\n",
    "    ```\n",
    "    \n",
    "Once you are ready, compile the code, put it on the mbed, and run this code to test it."
   ]
  },
  {
   "cell_type": "code",
   "execution_count": null,
   "metadata": {
    "collapsed": false
   },
   "outputs": [],
   "source": [
    "from sailorsbot import SBot\n",
    "\n",
    "with Sbot(<YOUR_NUMBER>) as car:\n",
    "    print(\"Entering LINE_FOLLOW_MODE\")\n",
    "    car.set_mode(1)\n",
    "    car.wait_for_manual()\n",
    "    print(\"Left the line.\")"
   ]
  },
  {
   "cell_type": "markdown",
   "metadata": {},
   "source": [
    "...\n",
    "\n",
    "\n",
    "## Additional notes (not required):\n",
    "\n",
    "If you would like to tune values through python without having to reprogram the MBED with every change, there are four variables available to you in main.cpp.\n",
    "\n",
    "- The C global variable `speed` on the MBED can be set remotely with the python command `car.set_pid_speed(speed)`.\n",
    "- The C global variables `k_p`, `k_i`, and `k_d` on the MBED can be set remotely with the python command `car.set_gains(k_p, k_i, k_d)`.\n",
    "\n",
    "\n",
    "## Bonus challenge (not required):\n",
    "\n",
    "Write a control law that gives satisfactory results on cars with bad wheels. The same control law should work well on all three of these simulations and have low error at the end:"
   ]
  },
  {
   "cell_type": "code",
   "execution_count": null,
   "metadata": {
    "collapsed": false
   },
   "outputs": [],
   "source": [
    "simulate(control, output='plot', left_wheel_bias=0.2)"
   ]
  },
  {
   "cell_type": "code",
   "execution_count": null,
   "metadata": {
    "collapsed": false
   },
   "outputs": [],
   "source": [
    "simulate(control, output='plot', left_wheel_bias=0.0)"
   ]
  },
  {
   "cell_type": "code",
   "execution_count": null,
   "metadata": {
    "collapsed": false
   },
   "outputs": [],
   "source": [
    "simulate(control, output='plot', left_wheel_bias=-0.4)"
   ]
  },
  {
   "cell_type": "code",
   "execution_count": null,
   "metadata": {
    "collapsed": true
   },
   "outputs": [],
   "source": []
  }
 ],
 "metadata": {
  "anaconda-cloud": {},
  "kernelspec": {
   "display_name": "Python [default]",
   "language": "python",
   "name": "python2"
  },
  "language_info": {
   "codemirror_mode": {
    "name": "ipython",
    "version": 2
   },
   "file_extension": ".py",
   "mimetype": "text/x-python",
   "name": "python",
   "nbconvert_exporter": "python",
   "pygments_lexer": "ipython2",
   "version": "2.7.12"
  }
 },
 "nbformat": 4,
 "nbformat_minor": 1
}
