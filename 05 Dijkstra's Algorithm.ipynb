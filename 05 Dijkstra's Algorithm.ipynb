{
 "cells": [
  {
   "cell_type": "markdown",
   "metadata": {},
   "source": [
    "# Dijkstra's Algorithm\n",
    "\n",
    "Now we'll implement Dijkstra's algorithm."
   ]
  },
  {
   "cell_type": "code",
   "execution_count": null,
   "metadata": {
    "collapsed": false
   },
   "outputs": [],
   "source": [
    "from sailorsmap import RoadMap\n",
    "graph = RoadMap('bay_area.json')"
   ]
  },
  {
   "cell_type": "markdown",
   "metadata": {},
   "source": [
    "## Step 1: Write out each part individually\n",
    "\n",
    "Create variables for the start and end nodes."
   ]
  },
  {
   "cell_type": "code",
   "execution_count": null,
   "metadata": {
    "collapsed": false
   },
   "outputs": [],
   "source": []
  },
  {
   "cell_type": "markdown",
   "metadata": {},
   "source": [
    "Create lists to store the best distances from the start and the predecessor nodes. What should the values in these lists be initially?\n",
    "\n",
    "Hints:\n",
    "- You can create a value of infinity with `float('inf')`.\n",
    "- `a*[None]` will create a list of length `a` with each entry filled with `None`."
   ]
  },
  {
   "cell_type": "code",
   "execution_count": null,
   "metadata": {
    "collapsed": true
   },
   "outputs": [],
   "source": []
  },
  {
   "cell_type": "markdown",
   "metadata": {},
   "source": [
    "Create a variable for the node that is currently being \"expanded\". What should it's value be at the beginning?"
   ]
  },
  {
   "cell_type": "code",
   "execution_count": null,
   "metadata": {
    "collapsed": false
   },
   "outputs": [],
   "source": []
  },
  {
   "cell_type": "markdown",
   "metadata": {},
   "source": [
    "Create a list for storing which vertices have been visited. What should it be initialized to?"
   ]
  },
  {
   "cell_type": "code",
   "execution_count": null,
   "metadata": {
    "collapsed": false
   },
   "outputs": [],
   "source": []
  },
  {
   "cell_type": "markdown",
   "metadata": {},
   "source": [
    "Get a list of all the neighbors of the node being expanded."
   ]
  },
  {
   "cell_type": "code",
   "execution_count": null,
   "metadata": {
    "collapsed": false
   },
   "outputs": [],
   "source": []
  },
  {
   "cell_type": "markdown",
   "metadata": {},
   "source": [
    "Loop through the neighbors and calculate the new distance for each. If this new distance is better than the previous best distance, replace the appropiate entries of the best distance and predecessors lists."
   ]
  },
  {
   "cell_type": "code",
   "execution_count": null,
   "metadata": {
    "collapsed": true
   },
   "outputs": [],
   "source": []
  },
  {
   "cell_type": "markdown",
   "metadata": {},
   "source": [
    "Select the next node to be current. This should be the with the shortest best distance that has not already been visited."
   ]
  },
  {
   "cell_type": "code",
   "execution_count": null,
   "metadata": {
    "collapsed": true
   },
   "outputs": [],
   "source": []
  },
  {
   "cell_type": "markdown",
   "metadata": {},
   "source": [
    "Some of the above lines should be in a while loop so that this will repeat. Copy and paste the appropriate lines into a while loop below. What is the condition for this while loop? Run it to see if it ends up at the end node."
   ]
  },
  {
   "cell_type": "code",
   "execution_count": null,
   "metadata": {
    "collapsed": false
   },
   "outputs": [],
   "source": []
  },
  {
   "cell_type": "markdown",
   "metadata": {},
   "source": [
    "Now construct the path back from the end to the start."
   ]
  },
  {
   "cell_type": "code",
   "execution_count": null,
   "metadata": {
    "collapsed": true
   },
   "outputs": [],
   "source": []
  },
  {
   "cell_type": "markdown",
   "metadata": {},
   "source": [
    "Use `list(reversed( ))` to switch the backwards path to the path from start to finish."
   ]
  },
  {
   "cell_type": "code",
   "execution_count": null,
   "metadata": {
    "collapsed": false
   },
   "outputs": [],
   "source": []
  },
  {
   "cell_type": "markdown",
   "metadata": {},
   "source": [
    "## Step 2: Put it in a function and test it.\n",
    "\n",
    "Take all the code from above and put it into the following function:"
   ]
  },
  {
   "cell_type": "code",
   "execution_count": null,
   "metadata": {
    "collapsed": true
   },
   "outputs": [],
   "source": [
    "def shortest_path(graph, start, end):\n",
    "    \"\"\"Return a vertex sequence representing the shortest path from start to end\"\"\"\n"
   ]
  },
  {
   "cell_type": "markdown",
   "metadata": {},
   "source": [
    "Now, run the tests below to see if it works."
   ]
  },
  {
   "cell_type": "code",
   "execution_count": null,
   "metadata": {
    "collapsed": true
   },
   "outputs": [],
   "source": [
    "graph = RoadMap('bay_area.json')\n",
    "short_path = shortest_path(graph, 1, 6)\n",
    "if short_path == [1,5,7,6]:\n",
    "    print 'shortest_path() worked!'\n",
    "else:\n",
    "    print \"shortest_path() didn't work. You returned a path of {} for starting at 1 and ending at 6\".format(short_path)\n",
    "    \n",
    "graph = RoadMap('map_in_ASL.json')\n",
    "short_path = shortest_path(graph, 23, 24)\n",
    "if short_path == [23, 28, 31, 37, 38, 32, 33, 25, 24]:\n",
    "    print 'shortest_path() worked!'\n",
    "else:\n",
    "    print \"shortest_path() didn't work. You returned a path of {} for starting at 1 and ending at 6\".format(short_path)\n",
    "   "
   ]
  },
  {
   "cell_type": "markdown",
   "metadata": {},
   "source": [
    "Great! Now put that function in a file and import it and make sure it still works!"
   ]
  },
  {
   "cell_type": "code",
   "execution_count": null,
   "metadata": {
    "collapsed": false
   },
   "outputs": [],
   "source": [
    "from <YOUR_FILE_NAME_WITHOUT_PY> import shortest_path\n",
    "\n",
    "graph = RoadMap('bay_area.json')\n",
    "short_path = shortest_path(graph, 1, 6)\n",
    "if short_path == [1,5,7,6]:\n",
    "    print 'shortest_path() worked!'\n",
    "else:\n",
    "    print \"shortest_path() didn't work. You returned a path of {} for starting at 1 and ending at 6\".format(short_path)\n",
    "    \n",
    "graph = RoadMap('map_in_ASL.json')\n",
    "short_path = shortest_path(graph, 23, 24)\n",
    "if short_path == [23, 28, 31, 37, 38, 32, 33, 25, 24]:\n",
    "    print 'shortest_path() worked!'\n",
    "else:\n",
    "    print \"shortest_path() didn't work. You returned a path of {} for starting at 1 and ending at 6\".format(short_path)\n",
    "   "
   ]
  },
  {
   "cell_type": "code",
   "execution_count": null,
   "metadata": {
    "collapsed": true
   },
   "outputs": [],
   "source": []
  }
 ],
 "metadata": {
  "anaconda-cloud": {},
  "kernelspec": {
   "display_name": "Python [default]",
   "language": "python",
   "name": "python2"
  },
  "language_info": {
   "codemirror_mode": {
    "name": "ipython",
    "version": 2
   },
   "file_extension": ".py",
   "mimetype": "text/x-python",
   "name": "python",
   "nbconvert_exporter": "python",
   "pygments_lexer": "ipython2",
   "version": "2.7.12"
  }
 },
 "nbformat": 4,
 "nbformat_minor": 1
}
