{
 "cells": [
  {
   "cell_type": "markdown",
   "metadata": {
    "collapsed": true
   },
   "source": [
    "# Task 2: Programming on the MBED\n",
    "\n",
    "We want to implement the lowest level (fastest, simplest, and most reliable) controls on the vehicle itself. To do this, we will need to program the MBED microprocessor using the C++ programming language.\n",
    "\n",
    "## Step 1: Setup an account for the online compiler\n",
    "\n",
    "1. Go to mbed classic: https://developer.mbed.org.\n",
    "2. Click \"Signup\" and register with email, username, and password (write it down).\n",
    "3. Go to https://developer.mbed.org/users/zsunberg/code/SAILORSbot_student/ and click \"Import into Compiler\".\n",
    "\n",
    "If, at any point, the compiler asks you to add a platform, add \"LPC 1768\"\n",
    "\n",
    "## Step 2: Understand LINE_FOLLOW_MODE\n",
    "\n",
    "The robots have four modes (see robot.h line 26). Mode 0 is `MANUAL_MODE`, which we have been using so far to control the car from python. Mode 1 is `LINE_FOLLOW_MODE`. In this mode, the `line_follow_loop()` function in line 9 of main.cpp is executed at 20 Hz (20 times every second) to set `leftspeed` and `rightspeed`.\n",
    "\n",
    "When the light sensors detect that the robot is **off the line** or has **reached an intersection** the car will automatically go back to `MANUAL_MODE`.\n",
    "\n",
    "Normally `LINE_FOLLOW_MODE` will be used to follow lines, and we will eventually program the robot to do that, but first we are just going to make it go straight until the line leaves the sensors.\n",
    "\n",
    "Open *main.cpp* in the mbed compiler, copy the following code, and replace lines 25 and 26 with it:\n",
    "```cpp\n",
    "leftspeed = 0.3;\n",
    "rightspeed = 0.3;\n",
    "```\n",
    "Then click Compile. This will download a .bin file to your computer. Plug your MBED into the computer with the USB cable, and drag the .bin file to the MBED.\n",
    "\n",
    "Restart the car and connect to SAILORS Robotics. Then run the following code on your laptop to test that it enters `LINE_FOLLOW_MODE`, begins to move forward, and then exits `LINE_FOLLOW_MODE` when the sensors have left the line."
   ]
  },
  {
   "cell_type": "code",
   "execution_count": null,
   "metadata": {
    "collapsed": false
   },
   "outputs": [],
   "source": [
    "from sailorsbot import SBot\n",
    "\n",
    "with Sbot(<YOUR_NUMBER>) as car:\n",
    "    car.set_mode(1)\n",
    "    print(\"entered LINE_FOLLOW_MODE\")\n",
    "    car.wait_for_manual()\n",
    "    print(\"entered MANUAL_MODE\")"
   ]
  }
 ],
 "metadata": {
  "anaconda-cloud": {},
  "kernelspec": {
   "display_name": "Python [default]",
   "language": "python",
   "name": "python2"
  },
  "language_info": {
   "codemirror_mode": {
    "name": "ipython",
    "version": 2
   },
   "file_extension": ".py",
   "mimetype": "text/x-python",
   "name": "python",
   "nbconvert_exporter": "python",
   "pygments_lexer": "ipython2",
   "version": "2.7.12"
  }
 },
 "nbformat": 4,
 "nbformat_minor": 1
}
