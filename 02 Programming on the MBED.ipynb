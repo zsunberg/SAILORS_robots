{
 "cells": [
  {
   "cell_type": "markdown",
   "metadata": {
    "collapsed": true
   },
   "source": [
    "# Task 2: Programming on the MBED\n",
    "\n",
    "We want to implement the lowest level (fastest, simplest, and most reliable) controls on the vehicle itself. To do this, we will need to program the MBED microprocessor using the C programming language.\n",
    "\n",
    "## Step 1: Setup an account\n",
    "\n",
    "1. Go to mbed classic: https://developer.mbed.org.\n",
    "2. Click \"Signup\" and register with email username and password (write it down).\n",
    "3. Go to https://developer.mbed.org/users/zsunberg/code/SAILORSbot_student/ and click \"Import into Compiler\".\n",
    "\n",
    "If, at any point, the compiler asks you to add a platform, add \"LPC 1768\"\n",
    "\n",
    "## Step 2: Understand LINE_FOLLOW_MODE\n",
    "\n",
    "The robots have four modes (see robot.h line 26). Mode 0 is `MANUAL_MODE`, which we have been using so far. Mode 1 is `LINE_FOLLOW_MODE`. In this mode, the `line_follow_loop()` function in line 9 of main.cpp is executed 20 times every second to set `leftspeed` and `rightspeed`.\n",
    "\n",
    "When the light sensors detect that the robot is off the line or has reached an intersection it will automatically go back to `MANUAL_MODE`.\n",
    "\n",
    "Normally `LINE_FOLLOW_MODE` will be used to follow lines, and we will eventually program the robot to do that, but today we are just going to make it spin the robot in place until the line leaves the sensors.\n",
    "\n",
    "Open *main.cpp* in the mbed compiler, copy the following code, and replace lines 25 and 26 with it:\n",
    "```cpp\n",
    "leftspeed = 0.1;\n",
    "rightspeed = -0.1;\n",
    "```\n",
    "Then click Compile and transfer the binary file to the robot.\n",
    "\n",
    "Run the following code on your laptop to test that it enters `LINE_FOLLOW_MODE`, begins to spin, and then exits `LINE_FOLLOW_MODE` when the sensors have left the line."
   ]
  },
  {
   "cell_type": "code",
   "execution_count": 1,
   "metadata": {
    "collapsed": false
   },
   "outputs": [
    {
     "ename": "SyntaxError",
     "evalue": "invalid syntax (<ipython-input-1-4d69c3e1063d>, line 3)",
     "output_type": "error",
     "traceback": [
      "\u001b[0;36m  File \u001b[0;32m\"<ipython-input-1-4d69c3e1063d>\"\u001b[0;36m, line \u001b[0;32m3\u001b[0m\n\u001b[0;31m    with Sbot(<YOUR_NUMBER>) as car:\u001b[0m\n\u001b[0m              ^\u001b[0m\n\u001b[0;31mSyntaxError\u001b[0m\u001b[0;31m:\u001b[0m invalid syntax\n"
     ]
    }
   ],
   "source": [
    "from sailorsbot import SBot\n",
    "\n",
    "with Sbot(<YOUR_NUMBER>) as car:\n",
    "    car.set_mode(1)\n",
    "    print(\"entered LINE_FOLLOW_MODE\")\n",
    "    car.wait_for_manual()\n",
    "    print(\"entered MANUAL_MODE\")"
   ]
  },
  {
   "cell_type": "markdown",
   "metadata": {},
   "source": [
    "Experiment with what happens when you start off of a line or don't include `car.wait_for_manual()`.\n",
    "\n",
    "Make sure you understand the python code above and how to control `leftspeed` and `rightspeed` when the MBED is in `LINE_FOLLOW_MODE`, but you do not have to understand all of the C++ code."
   ]
  },
  {
   "cell_type": "code",
   "execution_count": null,
   "metadata": {
    "collapsed": true
   },
   "outputs": [],
   "source": []
  }
 ],
 "metadata": {
  "anaconda-cloud": {},
  "kernelspec": {
   "display_name": "Python [default]",
   "language": "python",
   "name": "python2"
  },
  "language_info": {
   "codemirror_mode": {
    "name": "ipython",
    "version": 2
   },
   "file_extension": ".py",
   "mimetype": "text/x-python",
   "name": "python",
   "nbconvert_exporter": "python",
   "pygments_lexer": "ipython2",
   "version": "2.7.12"
  }
 },
 "nbformat": 4,
 "nbformat_minor": 1
}
