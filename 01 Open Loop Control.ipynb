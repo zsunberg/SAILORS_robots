{
 "cells": [
  {
   "cell_type": "markdown",
   "metadata": {},
   "source": [
    "# Task 1: Open Loop Control\n",
    "\n",
    "Write a program that makes the car start at the = taped on the card board and ends at the +.\n",
    "\n",
    "Take turns using the board. If multiple people want to use the board, line up. Once your robot has stopped, please wait for the other people in line to finish before starting again. You may test your car off the board or in the opposite corner at any time."
   ]
  },
  {
   "cell_type": "code",
   "execution_count": 3,
   "metadata": {
    "collapsed": true
   },
   "outputs": [],
   "source": [
    "from sailorsbot import *\n",
    "from time import sleep"
   ]
  },
  {
   "cell_type": "markdown",
   "metadata": {},
   "source": [
    "Fill in the `with` block below with your code. The following functions might be useful:\n",
    "\n",
    "```python\n",
    "car.stop()\n",
    "car.forward(speed)\n",
    "car.set_left_motor(speed)\n",
    "car.set_right_motor(speed)\n",
    "car.nudge(duration)\n",
    "car.turn(direction) # direction can be 'left` or `right`\n",
    "```\n",
    "\n",
    "Don't forget to connect to the SAILORS Robotics wifi!"
   ]
  },
  {
   "cell_type": "code",
   "execution_count": 15,
   "metadata": {
    "collapsed": false
   },
   "outputs": [],
   "source": [
    "with SBot(<YOUR_NUMBER>) as car:\n",
    "    # Your code here"
   ]
  }
 ],
 "metadata": {
  "anaconda-cloud": {},
  "kernelspec": {
   "display_name": "Python [default]",
   "language": "python",
   "name": "python2"
  },
  "language_info": {
   "codemirror_mode": {
    "name": "ipython",
    "version": 2
   },
   "file_extension": ".py",
   "mimetype": "text/x-python",
   "name": "python",
   "nbconvert_exporter": "python",
   "pygments_lexer": "ipython2",
   "version": "2.7.12"
  }
 },
 "nbformat": 4,
 "nbformat_minor": 1
}
